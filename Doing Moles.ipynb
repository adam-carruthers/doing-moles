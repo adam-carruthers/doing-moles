{
 "cells": [
  {
   "cell_type": "markdown",
   "metadata": {},
   "source": [
    "# Doing Moles\n",
    "A notebook to help with moles calculations"
   ]
  },
  {
   "cell_type": "markdown",
   "metadata": {},
   "source": [
    "## Variable Names\n",
    "**s**   - Substance  \n",
    "**n**   - Moles  \n",
    "**m**   - Mass in g  \n",
    "**V**   - Volume in dm^3  \n",
    "**c**   - Concentration in mol/dm^3  \n",
    "**Mr**  - Molecular Mass in g/mol  "
   ]
  },
  {
   "cell_type": "markdown",
   "metadata": {},
   "source": [
    "## Setup"
   ]
  },
  {
   "cell_type": "code",
   "execution_count": 1,
   "metadata": {
    "collapsed": true
   },
   "outputs": [],
   "source": [
    "from ipywidgets import widgets\n",
    "from collections import namedtuple, OrderedDict"
   ]
  },
  {
   "cell_type": "code",
   "execution_count": 2,
   "metadata": {
    "collapsed": false
   },
   "outputs": [],
   "source": [
    "class MolesStep:\n",
    "    def __init__(self, name, ddDesc):\n",
    "        '''\n",
    "           name = The name of the step\n",
    "           ddDesc = The message next to the dropdown\n",
    "        '''\n",
    "        self.name = name\n",
    "        self.ddDesc = ddDesc\n",
    "        self.conversionMethods = OrderedDict()\n",
    "    \n",
    "    def register_conversion_method(self, functionName, parameters):\n",
    "        '''\n",
    "           Method for generating decorator to register a conversion function.\n",
    "           \n",
    "           functionName = The name of the function in the dropdown\n",
    "           parameters = tuple containing each parameter as (name, type) where type is str, int or float\n",
    "        '''\n",
    "        for param in parameters:\n",
    "            if param[1] not in (str, float, int):\n",
    "                raise ValueError('Invalid parameter type ({t}) encountered when registering {f}'.format(t=param[1],\n",
    "                                                                                                        f=functionName))\n",
    "        def method_registration_decorator(f):\n",
    "            self.conversionMethods[functionName] = (f, parameters) \n",
    "        return method_registration_decorator\n",
    "    \n",
    "    def make_box(self, *nonUserParams):\n",
    "        '''\n",
    "           Method to make a box to display for user input\n",
    "        '''\n",
    "        self.w_title = widgets.HTML(value='<h3>{}<h3>'.format(self.name))\n",
    "        options = list(self.conversionMethods.keys())\n",
    "        self.w_dropdown = widgets.Dropdown(\n",
    "            options=options,\n",
    "            value = options[0],\n",
    "            description = self.ddDesc\n",
    "        )\n",
    "        self.nonUserParams = nonUserParams\n",
    "        self.w_param_box = widgets.Box()\n",
    "        self.edit_param_box()\n",
    "        self.w_dropdown.observe(self.edit_param_box)\n",
    "        if len(options)>1:\n",
    "            self.w_box = widgets.Box(\n",
    "                children=[self.w_title, self.w_dropdown, self.w_param_box]\n",
    "            )\n",
    "        else:\n",
    "            self.w_box = widgets.Box(\n",
    "                children=[self.w_title, self.w_param_box]\n",
    "            )\n",
    "        return self.w_box\n",
    "    \n",
    "    def edit_param_box(self, *args):\n",
    "        w_params = []\n",
    "        for desc, typ in self.conversionMethods[self.w_dropdown.value][1]:\n",
    "            if desc not in self.nonUserParams:\n",
    "                if typ is int:\n",
    "                    w_params.append(widgets.IntText(\n",
    "                            value=1,\n",
    "                            description=desc\n",
    "                        ))\n",
    "                elif typ is float:\n",
    "                    w_params.append(widgets.FloatText(\n",
    "                            value=1,\n",
    "                            description=desc\n",
    "                        ))\n",
    "                elif typ is str:\n",
    "                    w_params.append(widgets.Text(\n",
    "                            description=desc\n",
    "                        ))\n",
    "        self.w_param_box.children = w_params\n",
    "    \n",
    "    def run(self, nonUserParams={}):\n",
    "        '''\n",
    "           Method to run the actual calculations\n",
    "           \n",
    "           nonUserParams = Dictionary containing {'param':'non user entered value'}\n",
    "        '''\n",
    "        userParams = {w_param.description : w_param.value for w_param in self.w_param_box.children}\n",
    "        currentConversionMethod = self.conversionMethods[self.w_dropdown.value]\n",
    "        allParams = []\n",
    "        for desc, typ in currentConversionMethod[1]:\n",
    "            if desc in nonUserParams:\n",
    "                allParams.append(nonUserParams[desc])\n",
    "            else:\n",
    "                allParams.append(userParams[desc])\n",
    "        return currentConversionMethod[0](*allParams)"
   ]
  },
  {
   "cell_type": "markdown",
   "metadata": {},
   "source": [
    "## Doing Stuff with Substances"
   ]
  },
  {
   "cell_type": "code",
   "execution_count": 3,
   "metadata": {
    "collapsed": true
   },
   "outputs": [],
   "source": [
    "MolesPrepStep = MolesStep('Enter substance names',\n",
    "                          'You can\\'t change this')"
   ]
  },
  {
   "cell_type": "code",
   "execution_count": 4,
   "metadata": {
    "collapsed": true
   },
   "outputs": [],
   "source": [
    "@MolesPrepStep.register_conversion_method(\n",
    "    functionName='Useless',\n",
    "    parameters=(('Name 1',str),('Name 2',str))\n",
    ")\n",
    "def placeholder(s1, s2):\n",
    "    return s1, s2  # Could return Mr in the future"
   ]
  },
  {
   "cell_type": "markdown",
   "metadata": {},
   "source": [
    "## Calculate Original Moles from Data"
   ]
  },
  {
   "cell_type": "code",
   "execution_count": 5,
   "metadata": {
    "collapsed": true
   },
   "outputs": [],
   "source": [
    "MolesStep1 = MolesStep('Step 1: Get moles of substance you know',\n",
    "                       'What you know:')"
   ]
  },
  {
   "cell_type": "code",
   "execution_count": 6,
   "metadata": {
    "collapsed": false
   },
   "outputs": [],
   "source": [
    "@MolesStep1.register_conversion_method(\n",
    "    functionName='Solution',\n",
    "    parameters=(('Name',str),('Concentration',float),('Volume',float))\n",
    ")\n",
    "def calculate_moles_from_solution(s, c, V):\n",
    "    '''n = cV'''\n",
    "    n = c*V\n",
    "    print('n({s}) = cV = {c} x {V} = {n:.8g}mol'.format(s=s, c=c, V=V, n=n))\n",
    "    return n"
   ]
  },
  {
   "cell_type": "code",
   "execution_count": 7,
   "metadata": {
    "collapsed": true
   },
   "outputs": [],
   "source": [
    "@MolesStep1.register_conversion_method(\n",
    "    functionName='Gas',\n",
    "    parameters=(('Name',str),('Volume',float))\n",
    ")\n",
    "def calculate_moles_from_gas(s, V):\n",
    "    '''n = V/24 at 25°C (298K) and 1atm'''\n",
    "    n = V/24\n",
    "    print('n({s}) = V/24 = {V} / 24 = {n:.8g}mol'.format(s=s, V=V, n=n))\n",
    "    return n"
   ]
  },
  {
   "cell_type": "markdown",
   "metadata": {},
   "source": [
    "## Calculate Final Moles from Ratio"
   ]
  },
  {
   "cell_type": "code",
   "execution_count": 8,
   "metadata": {
    "collapsed": true
   },
   "outputs": [],
   "source": [
    "MolesStep2 = MolesStep('Step 2: Get the moles of the substance you want from the ratio',\n",
    "                       'You can\\'t change this:')"
   ]
  },
  {
   "cell_type": "code",
   "execution_count": 9,
   "metadata": {
    "collapsed": false
   },
   "outputs": [],
   "source": [
    "@MolesStep2.register_conversion_method(\n",
    "    functionName='You can only pick this method.',\n",
    "    parameters=(('Name 1',str), ('Name 2',str), \n",
    "                ('Ratio 1',int), ('Ratio 2',int),\n",
    "                ('Moles 1',float)\n",
    "               )\n",
    ")\n",
    "def get_moles_from_ratio(s1, s2, r1, r2, n1):\n",
    "    '''1 mol X:1 mol Y'''\n",
    "    tot_r = r2/r1\n",
    "    n2 = n1*tot_r\n",
    "    print(('From eqn {r1} mol {s1}:{r2} mol {s2}\\n'+\n",
    "           'TF n({s2}) = {n1:.8g} x ({r2}/{r1}) = {n2:.8g}mol').format(s1=s1, s2=s2, r1=r1, r2=r2, n1=n1, n2=n2))\n",
    "    return n2"
   ]
  },
  {
   "cell_type": "markdown",
   "metadata": {},
   "source": [
    "## Calculate Substance from Moles"
   ]
  },
  {
   "cell_type": "code",
   "execution_count": 10,
   "metadata": {
    "collapsed": true
   },
   "outputs": [],
   "source": [
    "MolesStep3 = MolesStep('Step 3: Do something else',\n",
    "                       'What you want to calculate:')"
   ]
  },
  {
   "cell_type": "code",
   "execution_count": 11,
   "metadata": {
    "collapsed": true
   },
   "outputs": [],
   "source": [
    "@MolesStep3.register_conversion_method(\n",
    "    functionName='Concentration',\n",
    "    parameters=(('Name',str), ('Moles',float), ('Volume',float))\n",
    ")\n",
    "def calculate_concentration(s, n, V):\n",
    "    '''c=n/V'''\n",
    "    c = n/V\n",
    "    print('c({s}) = n/V = {n:.8g} / {V} = {c:.8g}moldm-3'.format(s=s, n=n, V=V, c=c))\n",
    "    return c"
   ]
  },
  {
   "cell_type": "code",
   "execution_count": 12,
   "metadata": {
    "collapsed": true
   },
   "outputs": [],
   "source": [
    "@MolesStep3.register_conversion_method(\n",
    "    functionName='Solution Volume',\n",
    "    parameters=(('Name',str), ('Moles',float), ('Concentration',float))\n",
    ")\n",
    "def calculate_solution_volume(s, n, c):\n",
    "    '''V=n/c'''\n",
    "    V = n/c\n",
    "    print('V({s}) = n/c = {n:.8g} / {c} = {V:.8g}dm3'.format(s=s, n=n, c=c, V=V))\n",
    "    return V"
   ]
  },
  {
   "cell_type": "code",
   "execution_count": 13,
   "metadata": {
    "collapsed": true
   },
   "outputs": [],
   "source": [
    "@MolesStep3.register_conversion_method(\n",
    "    functionName='Mass',\n",
    "    parameters=(('Name',str), ('Moles',float), ('Molecular Mass',float))\n",
    ")\n",
    "def calculate_mass(s, n, Mr):\n",
    "    '''m=n*Mr'''\n",
    "    m = n*Mr\n",
    "    print('m({s}) = nxMr = {n:.8g} x {Mr} = {m:.8g}g'.format(s=s, n=n, Mr=Mr, m=m))\n",
    "    return m"
   ]
  },
  {
   "cell_type": "code",
   "execution_count": 14,
   "metadata": {
    "collapsed": true
   },
   "outputs": [],
   "source": [
    "@MolesStep3.register_conversion_method(\n",
    "    functionName='Gas Volume',\n",
    "    parameters=(('Name',str), ('Moles',float))\n",
    ")\n",
    "def calculate_gas_volume(s, n):\n",
    "    '''V = 24n at 25°C (298K) and 1atm'''\n",
    "    V = 24*n\n",
    "    print('V({s}) = nx24 = {n} x 24 = {V}'.format(s=s, n=n, V=V))\n",
    "    return V"
   ]
  },
  {
   "cell_type": "markdown",
   "metadata": {},
   "source": [
    "## User Input"
   ]
  },
  {
   "cell_type": "code",
   "execution_count": 15,
   "metadata": {
    "collapsed": true
   },
   "outputs": [],
   "source": [
    "from IPython.display import display, clear_output"
   ]
  },
  {
   "cell_type": "code",
   "execution_count": 16,
   "metadata": {
    "collapsed": false
   },
   "outputs": [],
   "source": [
    "display(widgets.HTML(value='<h2>Enter Calculation Data</h2><i>Volume is always in dm3!!!</i>'))\n",
    "display(MolesPrepStep.make_box())\n",
    "display(MolesStep1.make_box('Name',))\n",
    "display(MolesStep2.make_box('Name 1','Name 2','Moles 1'))\n",
    "display(MolesStep3.make_box('Name','Moles'))"
   ]
  },
  {
   "cell_type": "code",
   "execution_count": 19,
   "metadata": {
    "collapsed": false
   },
   "outputs": [
    {
     "name": "stdout",
     "output_type": "stream",
     "text": [
      "n(H2SO4) = cV = 0.1 x 0.0215 = 0.00215mol\n",
      "From eqn 1 mol H2SO4:2 mol NaOH\n",
      "TF n(NaOH) = 0.00215 x (2/1) = 0.0043mol\n",
      "c(NaOH) = n/V = 0.0043 / 0.025 = 0.172moldm-3\n"
     ]
    }
   ],
   "source": [
    "w_button = widgets.Button(description='Run Calculations')\n",
    "display(w_button)\n",
    "\n",
    "def handle_run(*args):\n",
    "    clear_output()\n",
    "    s1, s2 = MolesPrepStep.run()\n",
    "    n1 = MolesStep1.run({'Name':s1})\n",
    "    n2 = MolesStep2.run({'Name 1':s1,'Name 2':s2,'Moles 1':n1})\n",
    "    final = MolesStep3.run({'Name':s2,'Moles':n2})\n",
    "w_button.on_click(handle_run)"
   ]
  }
 ],
 "metadata": {
  "kernelspec": {
   "display_name": "Python [Root]",
   "language": "python",
   "name": "Python [Root]"
  },
  "language_info": {
   "codemirror_mode": {
    "name": "ipython",
    "version": 3
   },
   "file_extension": ".py",
   "mimetype": "text/x-python",
   "name": "python",
   "nbconvert_exporter": "python",
   "pygments_lexer": "ipython3",
   "version": "3.5.2"
  }
 },
 "nbformat": 4,
 "nbformat_minor": 0
}
